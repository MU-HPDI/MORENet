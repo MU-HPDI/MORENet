{
 "cells": [
  {
   "cell_type": "code",
   "execution_count": 1,
   "id": "6c369793",
   "metadata": {},
   "outputs": [],
   "source": [
    "import os\n",
    "import sys\n",
    "import yaml\n",
    "import shutil\n",
    "from jinja2 import Template"
   ]
  },
  {
   "cell_type": "markdown",
   "id": "92ef3a79",
   "metadata": {},
   "source": [
    "# Prepare folders"
   ]
  },
  {
   "cell_type": "code",
   "execution_count": 2,
   "id": "220d1927",
   "metadata": {},
   "outputs": [],
   "source": [
    "source_dir = 'experiments_2'"
   ]
  },
  {
   "cell_type": "code",
   "execution_count": 3,
   "id": "2c29fe8c",
   "metadata": {},
   "outputs": [],
   "source": [
    "if os.path.exists('{}'.format(source_dir)):\n",
    "    print('{} alredy exists'.format(source_dir))\n",
    "else:\n",
    "    os.mkdir('{}'.format(source_dir))\n",
    "\n",
    "for exp in list(range(8)):\n",
    "    if os.path.exists('{}/exp{}'.format(source_dir,exp+1)):\n",
    "        print('{}/exp{}'.format(source_dir,exp+1))\n",
    "    else:\n",
    "        os.mkdir('{}/exp{}'.format(source_dir,exp+1))\n"
   ]
  },
  {
   "cell_type": "markdown",
   "id": "9a2ed359",
   "metadata": {},
   "source": [
    "# General options"
   ]
  },
  {
   "cell_type": "code",
   "execution_count": 4,
   "id": "4d035846",
   "metadata": {},
   "outputs": [
    {
     "data": {
      "text/plain": [
       "\"\\ndict1 = {'deeplab_img':['output_dir_deeplab_img',\\n                        'deeplab_img_training_config.json',\\n                        'deeplab_img_testing_config.json',\\n                        'deeplab_img_test_inference_config.json'],\\n         \\n         'deeplab_img_pretrained':['output_dir_deeplab_img_pretrained',\\n                                   'deeplab_img_training_pretrained_config.json',\\n                                   'deeplab_img_testing_pretrained_config.json',\\n                                   'deeplab_img_test_inference_pretrained_config.json'],\\n         \\n         'deeplab_tci':['output_dir_deeplab_tci',\\n                        'deeplab_tci_training_config.json',\\n                        'deeplab_tci_testing_config.json',\\n                        'deeplab_tci_test_inference_config.json'],\\n         \\n         'deeplab_tci_pretrained':['output_dir_deeplab_tci_pretrained',\\n                                   'deeplab_tci_training_pretrained_config.json',\\n                                   'deeplab_tci_testing_pretrained_config.json',\\n                                   'deeplab_tci_test_inference_pretrained_config.json'],\\n         \\n         'unet_img':['output_dir_unet_img',\\n                     'unet_img_training_config.json',\\n                     'unet_img_testing_config.json',\\n                     'unet_img_test_inference_config.json'],\\n         \\n         'unet_img_pretrained':['output_dir_unet_img_pretrained',\\n                                'unet_img_training_pretrained_config.json',\\n                                'unet_img_testing_pretrained_config.json',\\n                                'unet_img_test_inference_pretrained_config.json'],\\n         \\n         'unet_tci':['output_dir_unet_tci',\\n                     'unet_tci_training_config.json',\\n                     'unet_tci_testing_config.json',\\n                     'unet_tci_test_inference_config.json'],\\n         \\n         'unet_tci_pretrained':['output_dir_unet_tci_pretrained',\\n                                'unet_tci_training_pretrained_config.json',\\n                                'unet_tci_testing_pretrained_config.json',\\n                                'unet_tci_test_inference_pretrained_config.json']}\\ndict1\\n\""
      ]
     },
     "execution_count": 4,
     "metadata": {},
     "output_type": "execute_result"
    }
   ],
   "source": [
    "'''\n",
    "dict1 = {'deeplab_img':['output_dir_deeplab_img',\n",
    "                        'deeplab_img_training_config.json',\n",
    "                        'deeplab_img_testing_config.json',\n",
    "                        'deeplab_img_test_inference_config.json'],\n",
    "         \n",
    "         'deeplab_img_pretrained':['output_dir_deeplab_img_pretrained',\n",
    "                                   'deeplab_img_training_pretrained_config.json',\n",
    "                                   'deeplab_img_testing_pretrained_config.json',\n",
    "                                   'deeplab_img_test_inference_pretrained_config.json'],\n",
    "         \n",
    "         'deeplab_tci':['output_dir_deeplab_tci',\n",
    "                        'deeplab_tci_training_config.json',\n",
    "                        'deeplab_tci_testing_config.json',\n",
    "                        'deeplab_tci_test_inference_config.json'],\n",
    "         \n",
    "         'deeplab_tci_pretrained':['output_dir_deeplab_tci_pretrained',\n",
    "                                   'deeplab_tci_training_pretrained_config.json',\n",
    "                                   'deeplab_tci_testing_pretrained_config.json',\n",
    "                                   'deeplab_tci_test_inference_pretrained_config.json'],\n",
    "         \n",
    "         'unet_img':['output_dir_unet_img',\n",
    "                     'unet_img_training_config.json',\n",
    "                     'unet_img_testing_config.json',\n",
    "                     'unet_img_test_inference_config.json'],\n",
    "         \n",
    "         'unet_img_pretrained':['output_dir_unet_img_pretrained',\n",
    "                                'unet_img_training_pretrained_config.json',\n",
    "                                'unet_img_testing_pretrained_config.json',\n",
    "                                'unet_img_test_inference_pretrained_config.json'],\n",
    "         \n",
    "         'unet_tci':['output_dir_unet_tci',\n",
    "                     'unet_tci_training_config.json',\n",
    "                     'unet_tci_testing_config.json',\n",
    "                     'unet_tci_test_inference_config.json'],\n",
    "         \n",
    "         'unet_tci_pretrained':['output_dir_unet_tci_pretrained',\n",
    "                                'unet_tci_training_pretrained_config.json',\n",
    "                                'unet_tci_testing_pretrained_config.json',\n",
    "                                'unet_tci_test_inference_pretrained_config.json']}\n",
    "dict1\n",
    "'''"
   ]
  },
  {
   "cell_type": "code",
   "execution_count": 5,
   "id": "c7a7b999",
   "metadata": {},
   "outputs": [
    {
     "data": {
      "text/plain": [
       "{'deeplabv3_img': ['output_dir_deeplabv3_img',\n",
       "  'deeplabv3_img_training_config.json',\n",
       "  'deeplabv3_img_testing_config.json',\n",
       "  'deeplabv3_img_test_inference_config.json'],\n",
       " 'deeplabv3_tci': ['output_dir_deeplabv3_tci',\n",
       "  'deeplabv3_tci_training_config.json',\n",
       "  'deeplabv3_tci_testing_config.json',\n",
       "  'deeplabv3_tci_test_inference_config.json'],\n",
       " 'deeplabv3plus_img': ['output_dir_deeplabv3plus_img',\n",
       "  'deeplabv3plus_img_training_config.json',\n",
       "  'deeplabv3plus_img_testing_config.json',\n",
       "  'deeplabv3plus_img_test_inference_config.json'],\n",
       " 'deeplabv3plus_tci': ['output_dir_deeplabv3plus_tci',\n",
       "  'deeplabv3plus_tci_training_config.json',\n",
       "  'deeplabv3plus_tci_testing_config.json',\n",
       "  'deeplabv3plus_tci_test_inference_config.json'],\n",
       " 'unet_img': ['output_dir_unet_img',\n",
       "  'unet_img_training_config.json',\n",
       "  'unet_img_testing_config.json',\n",
       "  'unet_img_test_inference_config.json'],\n",
       " 'unetplus_img': ['output_dir_unetplus_img',\n",
       "  'unetplus_img_training_config.json',\n",
       "  'unetplus_img_testing_config.json',\n",
       "  'unetplus_img_test_inference_config.json'],\n",
       " 'unet_tci': ['output_dir_unet_tci',\n",
       "  'unet_tci_training_config.json',\n",
       "  'unet_tci_testing_config.json',\n",
       "  'unet_tci_test_inference_config.json'],\n",
       " 'unetplus_tci': ['output_dir_unetplus_tci',\n",
       "  'unetplus_tci_training_config.json',\n",
       "  'unetplus_tci_testing_config.json',\n",
       "  'unetplus_tci_test_inference_config.json']}"
      ]
     },
     "execution_count": 5,
     "metadata": {},
     "output_type": "execute_result"
    }
   ],
   "source": [
    "dict1 = {'deeplabv3_img':['output_dir_deeplabv3_img',\n",
    "                          'deeplabv3_img_training_config.json',\n",
    "                          'deeplabv3_img_testing_config.json',\n",
    "                          'deeplabv3_img_test_inference_config.json'],\n",
    "         \n",
    "         'deeplabv3_tci':['output_dir_deeplabv3_tci',\n",
    "                          'deeplabv3_tci_training_config.json',\n",
    "                          'deeplabv3_tci_testing_config.json',\n",
    "                          'deeplabv3_tci_test_inference_config.json'],\n",
    "         \n",
    "         'deeplabv3plus_img':['output_dir_deeplabv3plus_img',\n",
    "                              'deeplabv3plus_img_training_config.json',\n",
    "                              'deeplabv3plus_img_testing_config.json',\n",
    "                              'deeplabv3plus_img_test_inference_config.json'],\n",
    "         \n",
    "         \n",
    "         'deeplabv3plus_tci':['output_dir_deeplabv3plus_tci',\n",
    "                              'deeplabv3plus_tci_training_config.json',\n",
    "                              'deeplabv3plus_tci_testing_config.json',\n",
    "                              'deeplabv3plus_tci_test_inference_config.json'],\n",
    "         \n",
    "         'unet_img':['output_dir_unet_img',\n",
    "                     'unet_img_training_config.json',\n",
    "                     'unet_img_testing_config.json',\n",
    "                     'unet_img_test_inference_config.json'],\n",
    "         \n",
    "         'unetplus_img':['output_dir_unetplus_img',\n",
    "                         'unetplus_img_training_config.json',\n",
    "                         'unetplus_img_testing_config.json',\n",
    "                         'unetplus_img_test_inference_config.json'],\n",
    "         \n",
    "         'unet_tci':['output_dir_unet_tci',\n",
    "                     'unet_tci_training_config.json',\n",
    "                     'unet_tci_testing_config.json',\n",
    "                     'unet_tci_test_inference_config.json'],\n",
    "         \n",
    "         'unetplus_tci':['output_dir_unetplus_tci',\n",
    "                         'unetplus_tci_training_config.json',\n",
    "                         'unetplus_tci_testing_config.json',\n",
    "                         'unetplus_tci_test_inference_config.json']}\n",
    "dict1"
   ]
  },
  {
   "cell_type": "code",
   "execution_count": 6,
   "id": "85f14413",
   "metadata": {},
   "outputs": [
    {
     "data": {
      "text/plain": [
       "dict_keys(['deeplabv3_img', 'deeplabv3_tci', 'deeplabv3plus_img', 'deeplabv3plus_tci', 'unet_img', 'unetplus_img', 'unet_tci', 'unetplus_tci'])"
      ]
     },
     "execution_count": 6,
     "metadata": {},
     "output_type": "execute_result"
    }
   ],
   "source": [
    "folders_list = dict1.keys()\n",
    "folders_list"
   ]
  },
  {
   "cell_type": "markdown",
   "id": "70aa02ec",
   "metadata": {},
   "source": [
    "# template:"
   ]
  },
  {
   "cell_type": "code",
   "execution_count": 7,
   "id": "103bf928",
   "metadata": {},
   "outputs": [],
   "source": [
    "template1 ='''apiVersion: batch/v1\n",
    "kind: Job\n",
    "metadata:\n",
    "  name: anes-job-train-exp{{ exp_num }}-{{ network }}-{{ data_type }}-pretrain\n",
    "spec:\n",
    "  template:\n",
    "    spec:\n",
    "      containers:\n",
    "      - name: anes-pod-train-exp{{ exp_num }}-{{ network }}-{{ data_type }}-pretrain\n",
    "        image: gitlab-registry.nrp-nautilus.io/jhurt/cgisegment:e98e742e\n",
    "        command: [\"/bin/sh\",\"-c\"]\n",
    "        args:\n",
    "        - python3 main.py --task train --output_dir /canada2019-3/{{sourcedir}}/exp{{ exp_num }}/{{ outputdir }} --config /canada2019-3/{{sourcedir}}/exp{{ exp_num }}/configs/{{ configfile }}\n",
    "        volumeMounts:\n",
    "        - name: canada2019-3\n",
    "          mountPath: /canada2019-3  \n",
    "        resources:\n",
    "            limits:\n",
    "              memory: 12Gi\n",
    "              cpu: \"4\"\n",
    "              nvidia.com/gpu: 2\n",
    "            requests:\n",
    "              memory: 12Gi\n",
    "              cpu: \"4\"\n",
    "              nvidia.com/gpu: 2\n",
    "      volumes:\n",
    "      - name: canada2019-3 \n",
    "        persistentVolumeClaim:\n",
    "            claimName: canada2019-3\n",
    "      restartPolicy: OnFailure      \n",
    "  backoffLimit: \n",
    "\n",
    "'''"
   ]
  },
  {
   "cell_type": "code",
   "execution_count": 8,
   "id": "f248f52a",
   "metadata": {},
   "outputs": [],
   "source": [
    "j2_template1 = Template(template1)"
   ]
  },
  {
   "cell_type": "markdown",
   "id": "8341a0ac",
   "metadata": {},
   "source": [
    "# yml file generation"
   ]
  },
  {
   "cell_type": "code",
   "execution_count": 9,
   "id": "a2163466",
   "metadata": {},
   "outputs": [],
   "source": [
    "for exp in list(range(8)):\n",
    "    exp_num = exp + 1\n",
    "    \n",
    "    if os.path.exists('{}/exp{}'.format(source_dir,exp_num)):\n",
    "        shutil.rmtree('{}/exp{}'.format(source_dir,exp_num))\n",
    "    os.mkdir('{}/exp{}'.format(source_dir,exp_num))\n",
    "    \n",
    "    for folder in folders_list:\n",
    "        \n",
    "        parts     = folder.split('_')\n",
    "        network   = parts[0]\n",
    "        data_type = parts[1]\n",
    "        \n",
    "        \n",
    "        data = {'sourcedir':source_dir,\n",
    "                'exp_num':exp_num,\n",
    "                'network':network,\n",
    "                'data_type':data_type,\n",
    "                'outputdir':dict1[folder][0],\n",
    "                'configfile':dict1[folder][1]}\n",
    "\n",
    "        output_file = j2_template1.render(data)\n",
    "\n",
    "        fileout = open('{}/exp{}/job_exp{}_{}_{}.yaml'.format(source_dir,exp_num,exp_num,network,data_type),'w')\n",
    "        fileout.write(output_file)\n",
    "        fileout.close()"
   ]
  },
  {
   "cell_type": "code",
   "execution_count": null,
   "id": "c6bd503f",
   "metadata": {},
   "outputs": [],
   "source": []
  }
 ],
 "metadata": {
  "kernelspec": {
   "display_name": "Python 3 (ipykernel)",
   "language": "python",
   "name": "python3"
  },
  "language_info": {
   "codemirror_mode": {
    "name": "ipython",
    "version": 3
   },
   "file_extension": ".py",
   "mimetype": "text/x-python",
   "name": "python",
   "nbconvert_exporter": "python",
   "pygments_lexer": "ipython3",
   "version": "3.8.12"
  }
 },
 "nbformat": 4,
 "nbformat_minor": 5
}

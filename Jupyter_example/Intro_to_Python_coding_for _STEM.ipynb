{
 "cells": [
  {
   "cell_type": "code",
   "execution_count": 1,
   "id": "41a2cec7",
   "metadata": {},
   "outputs": [],
   "source": [
    "import os\n",
    "import sys"
   ]
  },
  {
   "cell_type": "markdown",
   "id": "8fc50bb5",
   "metadata": {},
   "source": [
    "# Data types"
   ]
  },
  {
   "cell_type": "markdown",
   "id": "2787ea4b",
   "metadata": {},
   "source": [
    "## Numeric"
   ]
  },
  {
   "cell_type": "code",
   "execution_count": 2,
   "id": "92e87d2b",
   "metadata": {},
   "outputs": [
    {
     "name": "stdout",
     "output_type": "stream",
     "text": [
      "number of days: 7\n",
      "distance to next Jeff city 30.0\n"
     ]
    }
   ],
   "source": [
    "days = 7        # int integer\n",
    "distance = 30.0    # Float\n",
    "\n",
    "print('number of days: {}'.format(days))\n",
    "print('distance to next Jeff city {}'.format(distance))"
   ]
  },
  {
   "cell_type": "markdown",
   "id": "4fb4772d",
   "metadata": {},
   "source": [
    "## string"
   ]
  },
  {
   "cell_type": "code",
   "execution_count": 3,
   "id": "b107b0b5",
   "metadata": {},
   "outputs": [
    {
     "data": {
      "text/plain": [
       "'Columbia'"
      ]
     },
     "execution_count": 3,
     "metadata": {},
     "output_type": "execute_result"
    }
   ],
   "source": [
    "city = 'Columbia'\n",
    "city"
   ]
  },
  {
   "cell_type": "markdown",
   "id": "84d58ae4",
   "metadata": {},
   "source": [
    "## Sequence"
   ]
  },
  {
   "cell_type": "markdown",
   "id": "05debfbe",
   "metadata": {},
   "source": [
    "### lists"
   ]
  },
  {
   "cell_type": "code",
   "execution_count": 4,
   "id": "a1aff63c",
   "metadata": {},
   "outputs": [
    {
     "name": "stdout",
     "output_type": "stream",
     "text": [
      "list1: [1, 2, 3]\n",
      "list2: ['Columbia', 'Jeff city', 'Missouri']\n",
      "list3: ['Columbia', 1, 'Jeff city', 2.5, 'Missouri', 3]\n",
      "\n",
      "list3 element 3: 2.5\n",
      "\n",
      "list3 element 3 after update: 4\n",
      "list3 after update: ['Columbia', 1, 'Jeff city', 4, 'Missouri', 3]\n"
     ]
    }
   ],
   "source": [
    "list1 = [1,2,3]\n",
    "list2 = ['Columbia', 'Jeff city', 'Missouri']\n",
    "list3 = ['Columbia', 1,'Jeff city',2.5, 'Missouri',3]\n",
    "\n",
    "print('list1: {}'.format(list1))\n",
    "\n",
    "print('list2: {}'.format(list2))\n",
    "\n",
    "print('list3: {}'.format(list3))\n",
    "print('')\n",
    "print('list3 element 3: {}'.format(list3[3]))\n",
    "\n",
    "list3[3] = 4\n",
    "print('')\n",
    "\n",
    "print('list3 element 3 after update: {}'.format(list3[3]))\n",
    "print('list3 after update: {}'.format(list3))\n"
   ]
  },
  {
   "cell_type": "markdown",
   "id": "7ae1df02",
   "metadata": {},
   "source": [
    "### Tuples"
   ]
  },
  {
   "cell_type": "code",
   "execution_count": 5,
   "id": "62d4e5cb",
   "metadata": {},
   "outputs": [
    {
     "name": "stdout",
     "output_type": "stream",
     "text": [
      "tuple1: (1, 2, 3)\n",
      "tuple2: ('Columbia', 'Jeff city', 'Missouri')\n",
      "tuple3: ('Columbia', 1, 'Jeff city', 2.5, 'Missouri', 3)\n",
      "\n",
      "tuple3 element 3: 2.5\n"
     ]
    }
   ],
   "source": [
    "tuple1 = (1,2,3)\n",
    "tuple2 = ('Columbia', 'Jeff city', 'Missouri')\n",
    "tuple3 = ('Columbia', 1,'Jeff city',2.5, 'Missouri',3)\n",
    "\n",
    "print('tuple1: {}'.format(tuple1))\n",
    "\n",
    "print('tuple2: {}'.format(tuple2))\n",
    "\n",
    "print('tuple3: {}'.format(tuple3))\n",
    "print('')\n",
    "print('tuple3 element 3: {}'.format(tuple3[3]))\n"
   ]
  },
  {
   "cell_type": "code",
   "execution_count": 6,
   "id": "8f866ddd",
   "metadata": {},
   "outputs": [
    {
     "ename": "TypeError",
     "evalue": "'tuple' object does not support item assignment",
     "output_type": "error",
     "traceback": [
      "\u001b[1;31m---------------------------------------------------------------------------\u001b[0m",
      "\u001b[1;31mTypeError\u001b[0m                                 Traceback (most recent call last)",
      "\u001b[1;32m~\\AppData\\Local\\Temp\\ipykernel_55776\\4253404021.py\u001b[0m in \u001b[0;36m<module>\u001b[1;34m\u001b[0m\n\u001b[1;32m----> 1\u001b[1;33m \u001b[0mtuple1\u001b[0m\u001b[1;33m[\u001b[0m\u001b[1;36m3\u001b[0m\u001b[1;33m]\u001b[0m \u001b[1;33m=\u001b[0m \u001b[1;36m4\u001b[0m\u001b[1;33m\u001b[0m\u001b[1;33m\u001b[0m\u001b[0m\n\u001b[0m\u001b[0;32m      2\u001b[0m \u001b[1;33m\u001b[0m\u001b[0m\n\u001b[0;32m      3\u001b[0m \u001b[0mprint\u001b[0m\u001b[1;33m(\u001b[0m\u001b[1;34m'list3 element 3 after update: {}'\u001b[0m\u001b[1;33m.\u001b[0m\u001b[0mformat\u001b[0m\u001b[1;33m(\u001b[0m\u001b[0mlist3\u001b[0m\u001b[1;33m[\u001b[0m\u001b[1;36m3\u001b[0m\u001b[1;33m]\u001b[0m\u001b[1;33m)\u001b[0m\u001b[1;33m)\u001b[0m\u001b[1;33m\u001b[0m\u001b[1;33m\u001b[0m\u001b[0m\n\u001b[0;32m      4\u001b[0m \u001b[0mprint\u001b[0m\u001b[1;33m(\u001b[0m\u001b[1;34m'list3 after update: {}'\u001b[0m\u001b[1;33m.\u001b[0m\u001b[0mformat\u001b[0m\u001b[1;33m(\u001b[0m\u001b[0mlist3\u001b[0m\u001b[1;33m)\u001b[0m\u001b[1;33m)\u001b[0m\u001b[1;33m\u001b[0m\u001b[1;33m\u001b[0m\u001b[0m\n",
      "\u001b[1;31mTypeError\u001b[0m: 'tuple' object does not support item assignment"
     ]
    }
   ],
   "source": [
    "tuple1[3] = 4\n",
    "\n",
    "print('list3 element 3 after update: {}'.format(list3[3]))\n",
    "print('list3 after update: {}'.format(list3))"
   ]
  },
  {
   "cell_type": "markdown",
   "id": "f88efab2",
   "metadata": {},
   "source": [
    "## Dictionary"
   ]
  },
  {
   "cell_type": "code",
   "execution_count": 7,
   "id": "ea7ac72c",
   "metadata": {},
   "outputs": [
    {
     "name": "stdout",
     "output_type": "stream",
     "text": [
      "{'Name': 'John Doe', 'Age': 32, 'Height': 5.2}\n",
      "\n",
      "list of keys: dict_keys(['Name', 'Age', 'Height'])\n",
      "\n",
      "list of values: dict_values(['John Doe', 32, 5.2])\n"
     ]
    }
   ],
   "source": [
    "dict1 = {'Name':'John Doe','Age':32, 'Height':5.2}\n",
    "\n",
    "print(dict1)\n",
    "\n",
    "print('')\n",
    "\n",
    "keys_list = dict1.keys()\n",
    "print('list of keys: {}'.format(keys_list))\n",
    "\n",
    "print('')\n",
    "\n",
    "values_list = dict1.values()\n",
    "print('list of values: {}'.format(values_list))\n"
   ]
  },
  {
   "cell_type": "code",
   "execution_count": 8,
   "id": "93800a3e",
   "metadata": {},
   "outputs": [
    {
     "name": "stdout",
     "output_type": "stream",
     "text": [
      "the name is  : John Doe\n",
      "the age is   : 32 years old\n",
      "the height is: 5.2 feet\n"
     ]
    }
   ],
   "source": [
    "name   = dict1['Name']\n",
    "age    = dict1['Age']\n",
    "height = dict1['Height']\n",
    "\n",
    "print('the name is  : {}'.format(name))\n",
    "print('the age is   : {} years old'.format(age))\n",
    "print('the height is: {} feet'.format(height))"
   ]
  },
  {
   "cell_type": "markdown",
   "id": "32a96b44",
   "metadata": {},
   "source": [
    "### Updating dictionary "
   ]
  },
  {
   "cell_type": "code",
   "execution_count": 9,
   "id": "1b20c46c",
   "metadata": {},
   "outputs": [
    {
     "name": "stdout",
     "output_type": "stream",
     "text": [
      "the name is  : John Doe\n",
      "the age is   : 45 years old\n",
      "the height is: 5.2 feet\n"
     ]
    }
   ],
   "source": [
    "dict1['Age'] = 45\n",
    "\n",
    "name   = dict1['Name']\n",
    "age    = dict1['Age']\n",
    "height = dict1['Height']\n",
    "\n",
    "print('the name is  : {}'.format(name))\n",
    "print('the age is   : {} years old'.format(age))\n",
    "print('the height is: {} feet'.format(height))"
   ]
  },
  {
   "cell_type": "markdown",
   "id": "cae69220",
   "metadata": {},
   "source": [
    "### Deleting elements"
   ]
  },
  {
   "cell_type": "code",
   "execution_count": 10,
   "id": "ed338d97",
   "metadata": {},
   "outputs": [
    {
     "name": "stdout",
     "output_type": "stream",
     "text": [
      "list of keys: dict_keys(['Name', 'Age', 'Height'])\n",
      "list of values: dict_values(['John Doe', 45, 5.2])\n",
      "\n",
      "list of keys: dict_keys(['Name', 'Age'])\n",
      "list of values: dict_values(['John Doe', 45])\n"
     ]
    }
   ],
   "source": [
    "keys_list = dict1.keys()\n",
    "print('list of keys: {}'.format(keys_list))\n",
    "values_list = dict1.values()\n",
    "print('list of values: {}'.format(values_list))\n",
    "\n",
    "del dict1['Height']\n",
    "\n",
    "print('')\n",
    "\n",
    "keys_list = dict1.keys()\n",
    "print('list of keys: {}'.format(keys_list))\n",
    "values_list = dict1.values()\n",
    "print('list of values: {}'.format(values_list))\n"
   ]
  },
  {
   "cell_type": "markdown",
   "id": "6e05111c",
   "metadata": {},
   "source": [
    "## Boolean"
   ]
  },
  {
   "cell_type": "markdown",
   "id": "4f1af5ae",
   "metadata": {},
   "source": [
    "Boolean deals with \"True\" and \"False\" situations"
   ]
  },
  {
   "cell_type": "code",
   "execution_count": 14,
   "id": "eb8d645f",
   "metadata": {},
   "outputs": [
    {
     "name": "stdout",
     "output_type": "stream",
     "text": [
      "a equals b       : False\n",
      "a greater than b : False\n",
      "a less than b    : True\n"
     ]
    }
   ],
   "source": [
    "a = 2\n",
    "b = 4\n",
    "\n",
    "test1 = bool(a==b)\n",
    "test2 = bool(a>b)\n",
    "test3 = bool(a<b)\n",
    "\n",
    "print('a equals b       : {}'.format(test1))\n",
    "print('a greater than b : {}'.format(test2))\n",
    "print('a less than b    : {}'.format(test3))"
   ]
  },
  {
   "cell_type": "markdown",
   "id": "689c55ae",
   "metadata": {},
   "source": [
    "# Operators"
   ]
  },
  {
   "cell_type": "markdown",
   "id": "49d27e51",
   "metadata": {},
   "source": [
    "## Arithmetic "
   ]
  },
  {
   "cell_type": "code",
   "execution_count": 17,
   "id": "8bfba6f2",
   "metadata": {},
   "outputs": [
    {
     "name": "stdout",
     "output_type": "stream",
     "text": [
      " x = 3 \n",
      " y = 7 \n",
      "addition      : 3 + 7 = 10\n",
      "subtraction   : 3 - 7 = -4\n",
      "multiplication: 3 * 7 = 21\n",
      "division      : 3 / 7 = 0.42857142857142855\n",
      "modulus       : 7 % 3 = 1\n",
      "exponent      : 7 to the power of 3 = 343\n",
      "floor division: 7 // 3 = 2\n"
     ]
    }
   ],
   "source": [
    "x = 3\n",
    "y = 7\n",
    "\n",
    "print(' x = {} '.format(x))\n",
    "print(' y = {} '.format(y))\n",
    "addition = x + y\n",
    "print('addition      : {} + {} = {}'.format(x,y,addition))\n",
    "\n",
    "subtraction = x - y  \n",
    "print('subtraction   : {} - {} = {}'.format(x,y,subtraction))\n",
    "\n",
    "multiplication = x * y\n",
    "print('multiplication: {} * {} = {}'.format(x,y,multiplication))\n",
    "\n",
    "division = x/y\n",
    "print('division      : {} / {} = {}'.format(x,y,division))\n",
    "\n",
    "modulus = y%x\n",
    "\n",
    "print('modulus       : {} % {} = {}'.format(y,x,modulus))\n",
    "\n",
    "exponent = y**x\n",
    "print('exponent      : {} to the power of {} = {}'.format(y,x,exponent))\n",
    "\n",
    "\n",
    "floor_division = y//x\n",
    "print('floor division: {} // {} = {}'.format(y,x,floor_division))\n"
   ]
  },
  {
   "cell_type": "markdown",
   "id": "8136c592",
   "metadata": {},
   "source": [
    "## Comparison"
   ]
  },
  {
   "cell_type": "code",
   "execution_count": 24,
   "id": "6f8818f5",
   "metadata": {},
   "outputs": [
    {
     "name": "stdout",
     "output_type": "stream",
     "text": [
      " x = 3 \n",
      " y = 7 \n",
      "x        equals        y: False\n",
      "x      not equal       y: True \n",
      "x    greater than      y: False \n",
      "x greater or eqaul to  y: False \n",
      "x     less than        y: True \n",
      "x ;ess than or equal   y: True \n"
     ]
    }
   ],
   "source": [
    "x = 3\n",
    "y = 7\n",
    "\n",
    "print(' x = {} '.format(x))\n",
    "print(' y = {} '.format(y))\n",
    "\n",
    "print('x        equals        y: {}'.format(x==y))\n",
    "print('x      not equal       y: {} '.format(x!=y))\n",
    "print('x    greater than      y: {} '.format(x>y))\n",
    "print('x greater or eqaul to  y: {} '.format(x>=y))\n",
    "print('x     less than        y: {} '.format(x<y))\n",
    "print('x ;ess than or equal   y: {} '.format(x<=y))\n"
   ]
  },
  {
   "cell_type": "markdown",
   "id": "a8e944af",
   "metadata": {},
   "source": [
    "# Decision Making"
   ]
  },
  {
   "cell_type": "markdown",
   "id": "eb83ffa3",
   "metadata": {},
   "source": [
    "## if statement"
   ]
  },
  {
   "cell_type": "code",
   "execution_count": 27,
   "id": "6ee1ecf9",
   "metadata": {},
   "outputs": [
    {
     "name": "stdout",
     "output_type": "stream",
     "text": [
      "The amount requested is not available\n"
     ]
    }
   ],
   "source": [
    "balance = 120 # dollars\n",
    "requested_amount = 150 # dollars\n",
    "\n",
    "if requested_amount > balance:\n",
    "    print('The amount requested is not available')"
   ]
  },
  {
   "cell_type": "code",
   "execution_count": 28,
   "id": "406faac9",
   "metadata": {},
   "outputs": [
    {
     "name": "stdout",
     "output_type": "stream",
     "text": [
      "The amount requested is available\n"
     ]
    }
   ],
   "source": [
    "balance = 120 # dollars\n",
    "requested_amount = 100 # dollars\n",
    "\n",
    "if requested_amount > balance:\n",
    "    print('The amount requested is not available')\n",
    "else:\n",
    "    print('The amount requested is available')"
   ]
  },
  {
   "cell_type": "code",
   "execution_count": 29,
   "id": "f7a01616",
   "metadata": {},
   "outputs": [
    {
     "name": "stdout",
     "output_type": "stream",
     "text": [
      "The amount requested will empty the account\n"
     ]
    }
   ],
   "source": [
    "balance = 120 # dollars\n",
    "requested_amount = 120 # dollars\n",
    "\n",
    "if requested_amount > balance:\n",
    "    print('The amount requested is not available')\n",
    "elif requested_amount == balance:\n",
    "    print('The amount requested will empty the account')\n",
    "else:\n",
    "    print('The amount requested is available')"
   ]
  },
  {
   "cell_type": "markdown",
   "id": "6ca31c50",
   "metadata": {},
   "source": [
    "# Loops"
   ]
  },
  {
   "cell_type": "markdown",
   "id": "39a8f576",
   "metadata": {},
   "source": [
    "## types of loops"
   ]
  },
  {
   "cell_type": "markdown",
   "id": "c60f556d",
   "metadata": {},
   "source": [
    "### While loop"
   ]
  },
  {
   "cell_type": "code",
   "execution_count": 33,
   "id": "b2b18ea8",
   "metadata": {},
   "outputs": [
    {
     "name": "stdout",
     "output_type": "stream",
     "text": [
      "The count is: 10\n",
      "The count is: 9\n",
      "The count is: 8\n",
      "The count is: 7\n",
      "The count is: 6\n",
      "The count is: 5\n",
      "The count is: 4\n",
      "The count is: 3\n",
      "The count is: 2\n",
      "The count is: 1\n",
      "DONE!\n"
     ]
    }
   ],
   "source": [
    "count = 10\n",
    "while (count > 0):\n",
    "   print('The count is: {}'.format(count))\n",
    "   count = count - 1\n",
    "\n",
    "print('DONE!')"
   ]
  },
  {
   "cell_type": "markdown",
   "id": "d6c023ab",
   "metadata": {},
   "source": [
    "### for loop"
   ]
  },
  {
   "cell_type": "code",
   "execution_count": 34,
   "id": "467646df",
   "metadata": {},
   "outputs": [
    {
     "name": "stdout",
     "output_type": "stream",
     "text": [
      "element 0 is Columbia\n",
      "element 1 is Jeff city\n",
      "element 2 is St Louis\n",
      "element 3 is Kansas city\n"
     ]
    }
   ],
   "source": [
    "list1 = ['Columbia','Jeff city','St Louis','Kansas city']\n",
    "\n",
    "for idx in list(range(len(list1))):\n",
    "    city_name = list1[idx]\n",
    "    \n",
    "    print('element {} is {}'.format(idx,city_name))"
   ]
  },
  {
   "cell_type": "code",
   "execution_count": 35,
   "id": "b148fbf1",
   "metadata": {},
   "outputs": [
    {
     "name": "stdout",
     "output_type": "stream",
     "text": [
      "Columbia\n",
      "Jeff city\n",
      "St Louis\n",
      "Kansas city\n"
     ]
    }
   ],
   "source": [
    "for city_name in list1:\n",
    "    print('{}'.format(city_name))"
   ]
  },
  {
   "cell_type": "markdown",
   "id": "b253d9a8",
   "metadata": {},
   "source": [
    "## Loop control statements"
   ]
  },
  {
   "cell_type": "markdown",
   "id": "1c1543f9",
   "metadata": {},
   "source": [
    "### break"
   ]
  },
  {
   "cell_type": "code",
   "execution_count": 42,
   "id": "1f0db90e",
   "metadata": {},
   "outputs": [
    {
     "name": "stdout",
     "output_type": "stream",
     "text": [
      "[0, 1, 2, 3, 4, 5, 6, 7, 8, 9, 10, 11, 12, 13, 14, 15, 16, 17, 18, 19]\n",
      "0\n",
      "1\n",
      "2\n",
      "3\n",
      "4\n",
      "5\n",
      "6\n",
      "7\n",
      "8\n",
      "9\n",
      "10\n",
      "11\n",
      "12\n",
      "13\n",
      "14\n",
      "15\n",
      "16\n"
     ]
    }
   ],
   "source": [
    "list2 = list(range(20))\n",
    "\n",
    "print(list2)\n",
    "\n",
    "for element in list2:\n",
    "    print(element)\n",
    "    if element > 15:\n",
    "        break"
   ]
  },
  {
   "cell_type": "markdown",
   "id": "c7430439",
   "metadata": {},
   "source": [
    "### continue"
   ]
  },
  {
   "cell_type": "code",
   "execution_count": 46,
   "id": "dee823fb",
   "metadata": {},
   "outputs": [
    {
     "name": "stdout",
     "output_type": "stream",
     "text": [
      "[0, 1, 2, 3, 4, 5, 6, 7, 8, 9, 10, 11, 12, 13, 14, 15, 16, 17, 18, 19]\n",
      "0\n",
      "2\n",
      "4\n",
      "6\n",
      "8\n",
      "10\n",
      "12\n",
      "14\n",
      "16\n",
      "18\n"
     ]
    }
   ],
   "source": [
    "list2 = list(range(20))\n",
    "\n",
    "print(list2)\n",
    "\n",
    "for element in list2:\n",
    "    if element % 2 == 0:\n",
    "        print(element)\n",
    "    else:\n",
    "        continue"
   ]
  },
  {
   "cell_type": "markdown",
   "id": "34836253",
   "metadata": {},
   "source": [
    "# Functions"
   ]
  },
  {
   "cell_type": "code",
   "execution_count": 1,
   "id": "b8c26b15",
   "metadata": {},
   "outputs": [],
   "source": [
    "def myFunction(a, b):\n",
    "    print(f\"a = {a}\")\n",
    "    print(f\"b = {b}\")"
   ]
  },
  {
   "cell_type": "code",
   "execution_count": 3,
   "id": "22ea69ff",
   "metadata": {},
   "outputs": [
    {
     "name": "stdout",
     "output_type": "stream",
     "text": [
      "a = 10\n",
      "b = 5\n"
     ]
    }
   ],
   "source": [
    "myFunction(10,5)"
   ]
  }
 ],
 "metadata": {
  "kernelspec": {
   "display_name": "Python 3 (ipykernel)",
   "language": "python",
   "name": "python3"
  },
  "language_info": {
   "codemirror_mode": {
    "name": "ipython",
    "version": 3
   },
   "file_extension": ".py",
   "mimetype": "text/x-python",
   "name": "python",
   "nbconvert_exporter": "python",
   "pygments_lexer": "ipython3",
   "version": "3.8.12"
  }
 },
 "nbformat": 4,
 "nbformat_minor": 5
}
